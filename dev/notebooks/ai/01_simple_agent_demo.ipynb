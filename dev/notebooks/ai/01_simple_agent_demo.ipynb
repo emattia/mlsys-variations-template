{
 "cells": [
  {
   "cell_type": "markdown",
   "metadata": {},
   "source": [
    "# Simple AI Agent Demo\n",
    "\n",
    "This notebook demonstrates basic usage of the AI agent framework with built-in tools."
   ]
  },
  {
   "cell_type": "markdown",
   "metadata": {},
   "source": [
    "## Setup\n",
    "\n",
    "First, let's import the necessary components from our AI framework:"
   ]
  },
  {
   "cell_type": "code",
   "execution_count": null,
   "metadata": {},
   "outputs": [],
   "source": [
    "# Add src to path so we can import our modules\n",
    "import sys\n",
    "\n",
    "sys.path.append(\"../../../src\")\n",
    "\n",
    "from ai import (\n",
    "    Agent,\n",
    "    AgentConfig,\n",
    "    AgentMonitor,\n",
    "    AgentType,\n",
    "    ToolRegistry,\n",
    ")"
   ]
  },
  {
   "cell_type": "markdown",
   "metadata": {},
   "source": [
    "## Create and Configure Agent\n",
    "\n",
    "Let's create a ReAct agent with OpenAI GPT-4:"
   ]
  },
  {
   "cell_type": "code",
   "execution_count": null,
   "metadata": {},
   "outputs": [],
   "source": [
    "# Create agent configuration\n",
    "config = AgentConfig(\n",
    "    name=\"demo_agent\",\n",
    "    agent_type=AgentType.REACT,\n",
    "    llm_provider=\"openai\",\n",
    "    model=\"gpt-3.5-turbo\",  # Use cheaper model for demo\n",
    "    temperature=0.7,\n",
    "    verbose=True,\n",
    ")\n",
    "\n",
    "print(f\"Created agent config: {config.name}\")\n",
    "print(f\"Type: {config.agent_type.value}\")\n",
    "print(f\"Model: {config.llm_provider}/{config.model}\")"
   ]
  },
  {
   "cell_type": "code",
   "execution_count": null,
   "metadata": {},
   "outputs": [],
   "source": [
    "# Create monitoring\n",
    "monitor = AgentMonitor()\n",
    "\n",
    "# Create agent\n",
    "agent = Agent.create(config, monitor)\n",
    "\n",
    "print(f\"✅ Agent created: {agent.__class__.__name__}\")"
   ]
  },
  {
   "cell_type": "markdown",
   "metadata": {},
   "source": [
    "## Add Tools\n",
    "\n",
    "Let's add built-in tools to give our agent capabilities:"
   ]
  },
  {
   "cell_type": "code",
   "execution_count": null,
   "metadata": {},
   "outputs": [],
   "source": [
    "# Create tool registry and add built-in tools\n",
    "tool_registry = ToolRegistry()\n",
    "tool_registry.register_builtin_tools()\n",
    "\n",
    "# Add tools to agent\n",
    "for tool_name, tool in tool_registry.get_all_tools().items():\n",
    "    agent.add_tool(tool_name, tool)\n",
    "\n",
    "print(f\"🛠️ Added {len(tool_registry.list_tools())} tools:\")\n",
    "for tool_name in tool_registry.list_tools():\n",
    "    tool = tool_registry.get_tool(tool_name)\n",
    "    print(f\"  • {tool_name}: {tool.description}\")"
   ]
  },
  {
   "cell_type": "markdown",
   "metadata": {},
   "source": [
    "## Test Agent with Simple Tasks\n",
    "\n",
    "Now let's test our agent with some simple tasks:"
   ]
  },
  {
   "cell_type": "code",
   "execution_count": null,
   "metadata": {},
   "outputs": [],
   "source": [
    "# Test calculator tool\n",
    "async def test_calculator():\n",
    "    task = \"Calculate the square root of 144 and then multiply it by 5\"\n",
    "    print(f\"📝 Task: {task}\")\n",
    "\n",
    "    try:\n",
    "        result = await agent.run(task)\n",
    "        print(f\"✅ Result: {result}\")\n",
    "    except Exception as e:\n",
    "        print(f\"❌ Error: {e}\")\n",
    "\n",
    "\n",
    "await test_calculator()"
   ]
  },
  {
   "cell_type": "code",
   "execution_count": null,
   "metadata": {},
   "outputs": [],
   "source": [
    "# Test filesystem tool\n",
    "async def test_filesystem():\n",
    "    task = \"Check if the current directory exists and list its contents\"\n",
    "    print(f\"📝 Task: {task}\")\n",
    "\n",
    "    try:\n",
    "        result = await agent.run(task)\n",
    "        print(f\"✅ Result: {result}\")\n",
    "    except Exception as e:\n",
    "        print(f\"❌ Error: {e}\")\n",
    "\n",
    "\n",
    "await test_filesystem()"
   ]
  },
  {
   "cell_type": "code",
   "execution_count": null,
   "metadata": {},
   "outputs": [],
   "source": [
    "# Test code execution\n",
    "async def test_code_execution():\n",
    "    task = \"Write and execute Python code to calculate the fibonacci sequence for the first 10 numbers\"\n",
    "    print(f\"📝 Task: {task}\")\n",
    "\n",
    "    try:\n",
    "        result = await agent.run(task)\n",
    "        print(f\"✅ Result: {result}\")\n",
    "    except Exception as e:\n",
    "        print(f\"❌ Error: {e}\")\n",
    "\n",
    "\n",
    "await test_code_execution()"
   ]
  },
  {
   "cell_type": "markdown",
   "metadata": {},
   "source": [
    "## Monitor Agent Performance\n",
    "\n",
    "Let's check the monitoring statistics:"
   ]
  },
  {
   "cell_type": "code",
   "execution_count": null,
   "metadata": {},
   "outputs": [],
   "source": [
    "# Get monitoring stats\n",
    "stats = monitor.get_stats()\n",
    "\n",
    "print(\"📊 Agent Performance Stats:\")\n",
    "print(f\"Total events: {stats['metrics']['total_events']}\")\n",
    "print(f\"Total cost: ${stats['costs']['breakdown']['total']:.4f}\")\n",
    "print(f\"Active sessions: {stats['active_sessions']}\")\n",
    "\n",
    "if stats[\"costs\"][\"top_agents\"]:\n",
    "    print(\"\\nTop cost agents:\")\n",
    "    for agent_info in stats[\"costs\"][\"top_agents\"]:\n",
    "        print(\n",
    "            f\"  • {agent_info['agent_name']}: ${agent_info['total_cost']:.4f} ({agent_info['call_count']} calls)\"\n",
    "        )"
   ]
  },
  {
   "cell_type": "markdown",
   "metadata": {},
   "source": [
    "## Test Different Agent Types\n",
    "\n",
    "Let's try creating different types of agents:"
   ]
  },
  {
   "cell_type": "code",
   "execution_count": null,
   "metadata": {},
   "outputs": [],
   "source": [
    "# Test LangGraph agent (placeholder)\n",
    "langraph_config = AgentConfig(\n",
    "    name=\"langraph_agent\",\n",
    "    agent_type=AgentType.LANGRAPH,\n",
    "    llm_provider=\"openai\",\n",
    "    model=\"gpt-3.5-turbo\",\n",
    ")\n",
    "\n",
    "langraph_agent = Agent.create(langraph_config)\n",
    "\n",
    "\n",
    "async def test_langraph():\n",
    "    task = \"Analyze the pros and cons of renewable energy\"\n",
    "    print(f\"📝 LangGraph Task: {task}\")\n",
    "\n",
    "    try:\n",
    "        result = await langraph_agent.run(task)\n",
    "        print(f\"✅ Result: {result}\")\n",
    "    except Exception as e:\n",
    "        print(f\"❌ Error: {e}\")\n",
    "\n",
    "\n",
    "await test_langraph()"
   ]
  },
  {
   "cell_type": "code",
   "execution_count": null,
   "metadata": {},
   "outputs": [],
   "source": [
    "# Test CrewAI agent (placeholder)\n",
    "crewai_config = AgentConfig(\n",
    "    name=\"crewai_agent\",\n",
    "    agent_type=AgentType.CREWAI,\n",
    "    llm_provider=\"openai\",\n",
    "    model=\"gpt-3.5-turbo\",\n",
    ")\n",
    "\n",
    "crewai_agent = Agent.create(crewai_config)\n",
    "\n",
    "\n",
    "async def test_crewai():\n",
    "    task = \"Create a marketing strategy for a new AI product\"\n",
    "    print(f\"📝 CrewAI Task: {task}\")\n",
    "\n",
    "    try:\n",
    "        result = await crewai_agent.run(task)\n",
    "        print(f\"✅ Result: {result}\")\n",
    "    except Exception as e:\n",
    "        print(f\"❌ Error: {e}\")\n",
    "\n",
    "\n",
    "await test_crewai()"
   ]
  },
  {
   "cell_type": "markdown",
   "metadata": {},
   "source": [
    "## Summary\n",
    "\n",
    "This notebook demonstrated:\n",
    "\n",
    "1. ✅ **Agent Creation**: How to configure and create different types of AI agents\n",
    "2. ✅ **Tool Integration**: Adding built-in tools (calculator, filesystem, code executor)\n",
    "3. ✅ **Task Execution**: Running various tasks through the agent\n",
    "4. ✅ **Monitoring**: Tracking agent performance and costs\n",
    "5. ✅ **Agent Types**: Testing ReAct, LangGraph, and CrewAI agent implementations\n",
    "\n",
    "The framework provides a solid foundation that can be extended with:\n",
    "- Custom tools\n",
    "- Advanced agent types\n",
    "- Integration with external services\n",
    "- Enhanced monitoring and analytics"
   ]
  }
 ],
 "metadata": {
  "language_info": {
   "codemirror_mode": {
    "name": "ipython",
    "version": 3
   },
   "file_extension": ".py",
   "mimetype": "text/x-python",
   "name": "python",
   "nbconvert_exporter": "python"
  }
 },
 "nbformat": 4,
 "nbformat_minor": 4
}
